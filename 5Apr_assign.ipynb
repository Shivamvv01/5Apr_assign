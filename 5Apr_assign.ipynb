{
 "cells": [
  {
   "cell_type": "markdown",
   "id": "a3fe5fed-442a-430d-8448-1db4a16ace4d",
   "metadata": {},
   "source": [
    "You are a data scientist working for a healthcare company, and you have been tasked with creating a\n",
    "decision tree to help identify patients with diabetes based on a set of clinical variables. You have been\n",
    "given a dataset (diabetes.csv) with the following variables:\n",
    "1. Pregnancies: Number of times pregnant (integer)\n",
    "2. Glucose: Plasma glucose concentration a 2 hours in an oral glucose tolerance test (integer)\n",
    "3. BloodPressure: Diastolic blood pressure (mm Hg) (integer)\n",
    "4. SkinThickness: Triceps skin fold thickness (mm) (integer)\n",
    "5. Insulin: 2-Hour serum insulin (mu U/ml) (integer)\n",
    "6. BMI: Body mass index (weight in kg/(height in m)^2) (float)\n",
    "7. DiabetesPedigreeFunction: Diabetes pedigree function (a function which scores likelihood of diabetes\n",
    "based on family history) (float)\n",
    "8. Age: Age in years (integer)\n",
    "9. Outcome: Class variable (0 if non-diabetic, 1 if diabetic) (integer)\n",
    "\n",
    "Your goal is to create a decision tree to predict whether a patient has diabetes based on the other\n",
    "variables. Here are the steps you can follow:"
   ]
  },
  {
   "cell_type": "markdown",
   "id": "5b5e6c67-37be-4d5e-8961-142a87c5c5a5",
   "metadata": {},
   "source": [
    "Q1. Import the dataset and examine the variables. Use descriptive statistics and visualizations to\n",
    "understand the distribution and relationships between the variables."
   ]
  },
  {
   "cell_type": "code",
   "execution_count": null,
   "id": "f5abe82e-03b2-4610-b734-8521f63c984b",
   "metadata": {},
   "outputs": [],
   "source": [
    "import pandas as pd\n",
    "import numpy as np\n",
    "import matplotlib.pyplot as plt\n",
    "import seaborn as sns\n",
    "%matplotlib inline"
   ]
  },
  {
   "cell_type": "code",
   "execution_count": null,
   "id": "9042b779-858d-49a6-8175-236cb4cd310d",
   "metadata": {},
   "outputs": [],
   "source": [
    "df = pd.read_csv(\"diabetes.csv\")"
   ]
  },
  {
   "cell_type": "code",
   "execution_count": null,
   "id": "3d257340-074c-409c-a592-eacf785a4190",
   "metadata": {},
   "outputs": [],
   "source": [
    "df.head()"
   ]
  },
  {
   "cell_type": "code",
   "execution_count": null,
   "id": "d1a1a317-7680-4fb4-ab81-6714a4f85f5c",
   "metadata": {},
   "outputs": [],
   "source": [
    "df.shape"
   ]
  },
  {
   "cell_type": "code",
   "execution_count": null,
   "id": "d196b672-9a74-4aaa-aeda-aaa89b584a9f",
   "metadata": {},
   "outputs": [],
   "source": [
    "df.info()"
   ]
  },
  {
   "cell_type": "code",
   "execution_count": null,
   "id": "cf7f1fe4-16c8-4e91-b435-a946d9645f64",
   "metadata": {},
   "outputs": [],
   "source": [
    "sns.heatmap(df.corr(),annot=True,fmt=\".2f\",cmap=\"crest\")\n",
    "plt.show()"
   ]
  },
  {
   "cell_type": "code",
   "execution_count": null,
   "id": "2221a09d-d75e-4fcf-ade7-53fca5ac2aa1",
   "metadata": {},
   "outputs": [],
   "source": [
    "df.describe().T"
   ]
  },
  {
   "cell_type": "code",
   "execution_count": null,
   "id": "c7fbdee4-1fa9-4aa6-aa27-b2dddcdd864b",
   "metadata": {},
   "outputs": [],
   "source": [
    "sns.pairplot(df)"
   ]
  },
  {
   "cell_type": "code",
   "execution_count": null,
   "id": "baf4be2e-fc59-4344-b551-381aa8cac5ff",
   "metadata": {},
   "outputs": [],
   "source": [
    "df[\"Outcome\"].value_counts()"
   ]
  },
  {
   "cell_type": "code",
   "execution_count": null,
   "id": "72dda4cd-afa9-4a9d-8d04-ce8a0f4f38bb",
   "metadata": {},
   "outputs": [],
   "source": [
    "x = 1\n",
    "plt.figure(figsize=(16,10))\n",
    "plt.subplots_adjust(top = 0.99, bottom=0.01, hspace=0.5, wspace=0.5)\n",
    "for i in df.columns:\n",
    "    plt.subplot(3,3,x)\n",
    "    x = x+1\n",
    "    sns.histplot(data=df,x=i,kde='true')\n",
    "    plt.title(f'Histogram for {i}')\n",
    "plt.show()"
   ]
  },
  {
   "cell_type": "code",
   "execution_count": null,
   "id": "404d763c-bdbc-4e31-abfc-5e73e1b58297",
   "metadata": {},
   "outputs": [],
   "source": [
    "# Univariate Analysis with respect to Outcome column\n",
    "for i in df.columns:\n",
    "    if i != 'Outcome':\n",
    "        fig, ax = plt.subplots(1,2,figsize=(15,7))\n",
    "        plt.subplot(121)\n",
    "        sns.histplot(data=df,x=i,kde=True,bins='fd',color='g')\n",
    "        plt.title(f'Histogram for {i}')\n",
    "        plt.subplot(122)\n",
    "        sns.histplot(data=df,x=i,kde=True,bins='fd',hue='Outcome')\n",
    "        plt.title(f'Histogram for {i} wrt Outcome')\n",
    "        plt.show()"
   ]
  },
  {
   "cell_type": "markdown",
   "id": "5d2ef01b-621a-4ee4-9e9e-fc460ef3dfd2",
   "metadata": {},
   "source": [
    "Observation\n",
    "\n",
    "There is imbalance in the outcome column for class 0 --> 500 values and for class 1 --> 268\n",
    "There are 0 as values in various columns as in the above histogram we will replace them with median\n",
    "Pregnancies,Glucose,BloodPressure,SkinThickness,Insulin,BMI,DiabetesPedigreeFunction these columns 0 values will be replaced with their respective column medians"
   ]
  },
  {
   "cell_type": "markdown",
   "id": "ccfc42e5-8ace-4c14-82b6-aaf82d3eac14",
   "metadata": {},
   "source": [
    "Q2. Preprocess the data by cleaning missing values, removing outliers, and transforming categorical\n",
    "variables into dummy variables if necessary."
   ]
  },
  {
   "cell_type": "code",
   "execution_count": null,
   "id": "e30cc7bb-4607-49ed-9da4-8b6fd0545dc5",
   "metadata": {},
   "outputs": [],
   "source": [
    "cols_zero_val = ['Pregnancies','Glucose','BloodPressure','SkinThickness','Insulin','BMI']"
   ]
  },
  {
   "cell_type": "code",
   "execution_count": null,
   "id": "335ebee2-3d93-484f-ac34-858e14a6a3fb",
   "metadata": {},
   "outputs": [],
   "source": [
    "for i in cols_zero_val:    \n",
    "    print(f'{i} : {len(df[df[i]==0])}')"
   ]
  },
  {
   "cell_type": "code",
   "execution_count": null,
   "id": "bd5054a4-c597-4f5d-8966-653791918f50",
   "metadata": {},
   "outputs": [],
   "source": [
    "for i in cols_zero_val:\n",
    "    df[i] = df[i].replace(0,df[i].median())"
   ]
  },
  {
   "cell_type": "code",
   "execution_count": null,
   "id": "1c2cfff7-6cc2-487f-82c7-7f1582fbe1f8",
   "metadata": {},
   "outputs": [],
   "source": [
    "df.describe().T"
   ]
  },
  {
   "cell_type": "code",
   "execution_count": null,
   "id": "de23dce4-d79b-4f2f-bc05-b6767883a1a6",
   "metadata": {},
   "outputs": [],
   "source": [
    "df.isnull().sum()"
   ]
  },
  {
   "cell_type": "code",
   "execution_count": null,
   "id": "31a66430-6f4e-408b-8742-7d1aadfe135c",
   "metadata": {},
   "outputs": [],
   "source": [
    "df.dtypes"
   ]
  },
  {
   "cell_type": "code",
   "execution_count": null,
   "id": "26189ae5-8c5c-49b9-874b-13acf25596d5",
   "metadata": {},
   "outputs": [],
   "source": [
    "plt.figure(figsize=(10,4))\n",
    "sns.boxplot(data = df)\n",
    "plt.xticks(rotation = 45)\n",
    "plt.show()"
   ]
  },
  {
   "cell_type": "markdown",
   "id": "7d936d43-a3a5-4c22-9555-86b5d748b652",
   "metadata": {},
   "source": [
    "There are outliers but its not necessary to remove them as the Descision Tree Algorithm is not sensitive to outliers"
   ]
  },
  {
   "cell_type": "markdown",
   "id": "c4a8aaa3-3f6c-4529-a9a6-709391142e26",
   "metadata": {},
   "source": [
    "Q3. Split the dataset into a training set and a test set. Use a random seed to ensure reproducibility."
   ]
  },
  {
   "cell_type": "code",
   "execution_count": null,
   "id": "d41f1a73-abd1-4497-bd41-2fbb22bdca2d",
   "metadata": {},
   "outputs": [],
   "source": [
    "#Dependent and independent features\n",
    "X = df.iloc[:,:-1]\n",
    "y = df[\"Outcome\"]\n",
    "X.head()"
   ]
  },
  {
   "cell_type": "code",
   "execution_count": null,
   "id": "3ba0e9b3-dd62-4a09-8ef4-0ed316fcbf77",
   "metadata": {},
   "outputs": [],
   "source": [
    "y.head()"
   ]
  },
  {
   "cell_type": "code",
   "execution_count": null,
   "id": "693fb322-d598-4184-b29d-a467068c491f",
   "metadata": {},
   "outputs": [],
   "source": [
    "from sklearn.model_selection import train_test_split\n",
    "X_train,X_test,y_train,y_test = train_test_split(X,y,random_state=40,test_size=0.33)"
   ]
  },
  {
   "cell_type": "code",
   "execution_count": null,
   "id": "3bb1ed12-ebb3-4d8d-85d9-ad7a952afed7",
   "metadata": {},
   "outputs": [],
   "source": [
    "X_train.shape,X_test.shape"
   ]
  },
  {
   "cell_type": "code",
   "execution_count": null,
   "id": "413102bd-8067-42c3-b053-ec3fbbacf009",
   "metadata": {},
   "outputs": [],
   "source": [
    "y_train.shape,y_test.shape"
   ]
  },
  {
   "cell_type": "markdown",
   "id": "6f02ca06-6b42-483f-a334-52de1625805f",
   "metadata": {},
   "source": [
    "Q4. Use a decision tree algorithm, such as ID3 or C4.5, to train a decision tree model on the training set. Use\n",
    "cross-validation to optimize the hyperparameters and avoid overfitting."
   ]
  },
  {
   "cell_type": "code",
   "execution_count": null,
   "id": "11ec4286-e298-4b3d-929b-efe0bd978a3a",
   "metadata": {},
   "outputs": [],
   "source": [
    "parameters = {\n",
    "    'criterion':['gini','entropy','log_loss'],\n",
    "    'splitter':['best','random'],\n",
    "    'max_depth':list(range(1,15)),\n",
    "    'max_features':['sqrt','log2']\n",
    "}"
   ]
  },
  {
   "cell_type": "code",
   "execution_count": null,
   "id": "4496378b-3fa9-4d8d-87d7-c002d6fd3786",
   "metadata": {},
   "outputs": [],
   "source": [
    "from sklearn.model_selection import GridSearchCV\n",
    "from sklearn.tree import DecisionTreeClassifier\n",
    "\n",
    "classifier = DecisionTreeClassifier()\n",
    "clf = GridSearchCV(classifier,param_grid=parameters,cv=5,scoring = 'accuracy')\n",
    "clf.fit(X_train,y_train)"
   ]
  },
  {
   "cell_type": "code",
   "execution_count": null,
   "id": "b2fefae3-9efe-4816-a251-e9ec840b526f",
   "metadata": {},
   "outputs": [],
   "source": [
    "clf.best_params_"
   ]
  },
  {
   "cell_type": "code",
   "execution_count": null,
   "id": "d5a65ef7-c67d-41dc-bbb6-a9949a12d4c9",
   "metadata": {},
   "outputs": [],
   "source": [
    "clf.best_score_"
   ]
  },
  {
   "cell_type": "code",
   "execution_count": null,
   "id": "9bc1a939-9333-444f-95b7-8ede18c3874b",
   "metadata": {},
   "outputs": [],
   "source": [
    "model = DecisionTreeClassifier(**clf.best_params_)\n",
    "model.fit(X_train,y_train)"
   ]
  },
  {
   "cell_type": "code",
   "execution_count": null,
   "id": "9855e058-2043-4890-a5b4-1db6c31856c5",
   "metadata": {},
   "outputs": [],
   "source": [
    "y_pred=model.predict(X_test)"
   ]
  },
  {
   "cell_type": "markdown",
   "id": "e2da5e15-a90a-4fc1-917e-b541be45503a",
   "metadata": {},
   "source": [
    "Q5. Evaluate the performance of the decision tree model on the test set using metrics such as accuracy,\n",
    "precision, recall, and F1 score. Use confusion matrices and ROC curves to visualize the results."
   ]
  },
  {
   "cell_type": "code",
   "execution_count": null,
   "id": "94f2adc5-b7bf-49fd-a50e-b3471136d38f",
   "metadata": {},
   "outputs": [],
   "source": [
    "y_pred"
   ]
  },
  {
   "cell_type": "code",
   "execution_count": null,
   "id": "c00a27f9-b5e1-4e04-bae9-1018a558130e",
   "metadata": {},
   "outputs": [],
   "source": [
    "from sklearn.metrics import classification_report,accuracy_score,confusion_matrix"
   ]
  },
  {
   "cell_type": "code",
   "execution_count": null,
   "id": "6599299b-b680-4d38-83a7-7075a108cdad",
   "metadata": {},
   "outputs": [],
   "source": [
    "acc_test = accuracy_score(y_pred,y_test)\n",
    "print(f'Accuracy Score for test data is {acc_test}')"
   ]
  },
  {
   "cell_type": "code",
   "execution_count": null,
   "id": "440994ab-ed24-4e88-bd59-145c4575f740",
   "metadata": {},
   "outputs": [],
   "source": [
    "print(classification_report(y_pred,y_test))"
   ]
  },
  {
   "cell_type": "code",
   "execution_count": null,
   "id": "7ec9a548-1325-41bd-9321-dfdbbfeb43d5",
   "metadata": {},
   "outputs": [],
   "source": [
    "cf = confusion_matrix(y_pred, y_test)\n",
    "sns.heatmap(cf, annot=True,fmt='d')\n",
    "plt.show()"
   ]
  },
  {
   "cell_type": "code",
   "execution_count": null,
   "id": "54e62d98-37e9-4969-a06e-177f07d3c071",
   "metadata": {},
   "outputs": [],
   "source": [
    "from sklearn.metrics import roc_curve, roc_auc_score, auc\n",
    "\n",
    "# Assuming you have true labels (y_test) and predicted probabilities (y_pred) for the positive class\n",
    "\n",
    "# Compute the ROC curve\n",
    "fpr, tpr, thresholds = roc_curve(y_test, y_pred)\n",
    "\n",
    "# Calculate the area under the ROC curve (AUC)\n",
    "roc_auc = auc(fpr, tpr)\n",
    "\n",
    "# Create the ROC curve plot\n",
    "plt.figure(figsize=(8, 6))\n",
    "plt.plot(fpr, tpr, color='darkorange', lw=2, label='ROC curve (area = {:.2f})'.format(roc_auc))\n",
    "plt.plot([0, 1], [0, 1], color='navy', lw=2, linestyle='--')\n",
    "plt.xlim([0.0, 1.0])\n",
    "plt.ylim([0.0, 1.05])\n",
    "plt.xlabel('False Positive Rate')\n",
    "plt.ylabel('True Positive Rate')\n",
    "plt.title('Receiver Operating Characteristic (ROC) Curve')\n",
    "plt.legend(loc='lower right')\n",
    "plt.show()"
   ]
  },
  {
   "cell_type": "markdown",
   "id": "cab24389-c5ab-4c62-b4d5-69b3c1118bfc",
   "metadata": {},
   "source": [
    "Q6. Interpret the decision tree by examining the splits, branches, and leaves. Identify the most important\n",
    "variables and their thresholds. Use domain knowledge and common sense to explain the patterns and\n",
    "trends."
   ]
  },
  {
   "cell_type": "code",
   "execution_count": null,
   "id": "5087db31-5af6-4718-ba33-7d0cd1af0a3e",
   "metadata": {},
   "outputs": [],
   "source": [
    "from sklearn import tree\n",
    "plt.figure(figsize=(12,10))\n",
    "tree.plot_tree(model,filled=True)\n",
    "plt.show()"
   ]
  },
  {
   "cell_type": "code",
   "execution_count": null,
   "id": "c092f5f2-0955-468b-b91c-0fa12cdf7c05",
   "metadata": {},
   "outputs": [],
   "source": [
    "model.feature_importances_"
   ]
  },
  {
   "cell_type": "code",
   "execution_count": null,
   "id": "fe9970e8-dd2b-4f79-b2d3-6745822b7fb0",
   "metadata": {},
   "outputs": [],
   "source": [
    "imp = model.feature_importances_\n",
    "imp = pd.Series(imp)\n",
    "imp.index = X_train.columns\n",
    "imp = imp.sort_values(ascending=False)\n",
    "imp"
   ]
  },
  {
   "cell_type": "code",
   "execution_count": null,
   "id": "9d9e3397-9ee0-4b35-b188-4ca095ceb081",
   "metadata": {},
   "outputs": [],
   "source": [
    "imp.plot(kind='bar',ylabel='Importance',title='Feature Importances')\n",
    "plt.show()"
   ]
  },
  {
   "cell_type": "markdown",
   "id": "2b694f97-779b-4437-bc00-234a1a4961e7",
   "metadata": {},
   "source": [
    "Q7. Validate the decision tree model by applying it to new data or testing its robustness to changes in the\n",
    "dataset or the environment. Use sensitivity analysis and scenario testing to explore the uncertainty and\n",
    "risks."
   ]
  },
  {
   "cell_type": "code",
   "execution_count": null,
   "id": "0937f95d-8a63-4b04-9ace-afbc76ab4f83",
   "metadata": {},
   "outputs": [],
   "source": [
    "import warnings\n",
    "warnings.filterwarnings(\"ignore\")\n",
    "new_data = [6,120,22,35,120,18.4,0.90,45]"
   ]
  },
  {
   "cell_type": "code",
   "execution_count": null,
   "id": "601ddec3-2b3e-4b2b-900d-8c2199954eb9",
   "metadata": {},
   "outputs": [],
   "source": [
    "y_pred = model.predict([new_data])\n",
    "y_pred[0]"
   ]
  },
  {
   "cell_type": "code",
   "execution_count": null,
   "id": "a4022321-d3ac-4f05-8691-70385a4b9feb",
   "metadata": {},
   "outputs": [],
   "source": [
    "if y_pred[0] == 1:\n",
    "    print(\"Diabetic\")\n",
    "else :\n",
    "    print(\"Not Diabetic\")"
   ]
  }
 ],
 "metadata": {
  "kernelspec": {
   "display_name": "Python 3 (ipykernel)",
   "language": "python",
   "name": "python3"
  },
  "language_info": {
   "codemirror_mode": {
    "name": "ipython",
    "version": 3
   },
   "file_extension": ".py",
   "mimetype": "text/x-python",
   "name": "python",
   "nbconvert_exporter": "python",
   "pygments_lexer": "ipython3",
   "version": "3.10.8"
  }
 },
 "nbformat": 4,
 "nbformat_minor": 5
}
